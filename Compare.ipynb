{
 "cells": [
  {
   "cell_type": "code",
   "execution_count": 6,
   "metadata": {},
   "outputs": [],
   "source": [
    "from scipy import sparse\n",
    "import re\n",
    "from sklearn.datasets import load_files\n",
    "from sklearn.naive_bayes import MultinomialNB\n",
    "from sklearn.ensemble import RandomForestClassifier\n",
    "from sklearn.svm import SVC\n",
    "from sklearn.ensemble import GradientBoostingClassifier\n",
    "from sklearn.metrics import accuracy_score\n",
    "from sklearn.tree import DecisionTreeClassifier\n",
    "from sklearn.neural_network import MLPClassifier\n",
    "from sklearn.linear_model import LogisticRegression\n"
   ]
  },
  {
   "cell_type": "code",
   "execution_count": 2,
   "metadata": {},
   "outputs": [],
   "source": [
    "# 正则表达式\n",
    "def clean_text(doc):\n",
    "    doc = doc.replace(b\"<br />\", b\" \")  # 替换换行符\n",
    "    doc = re.sub(b\"<.*?>\", b\" \", doc)  # 移除 HTML 标签\n",
    "    doc = re.sub(b\"[^\\w\\s]\", b\" \", doc)  # 移除标点符号\n",
    "    doc = re.sub(b\"\\d+\", b\" \", doc)  # 移除数字\n",
    "    doc = re.sub(b\"\\s+\", b\" \", doc).strip()  # 移除多余空格\n",
    "    return doc"
   ]
  },
  {
   "cell_type": "code",
   "execution_count": 3,
   "metadata": {},
   "outputs": [],
   "source": [
    "reviews_train = load_files(\"data/aclImdb/train/\")\n",
    "# load_files returns a bunch, containing training texts and training labels\n",
    "text_train, y_train = reviews_train.data, reviews_train.target\n",
    "text_train = [clean_text(doc) for doc in text_train]"
   ]
  },
  {
   "cell_type": "code",
   "execution_count": 4,
   "metadata": {},
   "outputs": [],
   "source": [
    "reviews_test = load_files(\"data/aclImdb/test/\")\n",
    "text_test, y_test = reviews_test.data, reviews_test.target\n",
    "text_test = [clean_text(doc) for doc in text_test]"
   ]
  },
  {
   "cell_type": "code",
   "execution_count": 5,
   "metadata": {},
   "outputs": [],
   "source": [
    "# 加载稀疏矩阵\n",
    "X_train_tfidf = sparse.load_npz(\"X_train_tfidf.npz\")\n",
    "X_test_tfidf = sparse.load_npz(\"X_test_tfidf.npz\")"
   ]
  },
  {
   "cell_type": "code",
   "execution_count": null,
   "metadata": {},
   "outputs": [],
   "source": [
    "# 使用贝叶斯进行分类\n",
    "Lmodel_nb = MultinomialNB()\n",
    "Lmodel_nb.fit(X_train_tfidf, y_train)\n",
    "y_pred_nb = Lmodel_nb.predict(X_test_tfidf)\n",
    "print(\"Naive Bayes Test accuracy: {:.3f}\".format(accuracy_score(y_test, y_pred_nb)))\n",
    "\n",
    "# 使用随机森林分类器进行分类\n",
    "Lmodel_rf = RandomForestClassifier(n_estimators=100, random_state=42)\n",
    "Lmodel_rf.fit(X_train_tfidf, y_train)\n",
    "y_pred_rf = Lmodel_rf.predict(X_test_tfidf)\n",
    "print(\"Random Forest Test accuracy: {:.3f}\".format(accuracy_score(y_test, y_pred_rf)))\n",
    "\n",
    "# 使用梯度提升分类器进行分类\n",
    "Lmodel_gb = GradientBoostingClassifier()\n",
    "Lmodel_gb.fit(X_train_tfidf, y_train)\n",
    "y_pred_gb = Lmodel_gb.predict(X_test_tfidf)\n",
    "print(\"Gradient Boosting Test accuracy: {:.3f}\".format(accuracy_score(y_test, y_pred_gb)))\n",
    "\n",
    "# 使用决策树分类器进行分类\n",
    "Lmodel_dt = DecisionTreeClassifier(random_state=42)\n",
    "Lmodel_dt.fit(X_train_tfidf, y_train)\n",
    "y_pred_dt = Lmodel_dt.predict(X_test_tfidf)\n",
    "print(\"Decision Tree Test accuracy: {:.3f}\".format(accuracy_score(y_test, y_pred_dt)))\n",
    "\n",
    "# 使用逻辑回归分类器进行分类\n",
    "Lmodel_lr = LogisticRegression(max_iter=1000, random_state=42)\n",
    "Lmodel_lr.fit(X_train_tfidf, y_train)\n",
    "y_pred_lr = Lmodel_lr.predict(X_test_tfidf)\n",
    "print(\"Logistic Regression Test accuracy: {:.3f}\".format(accuracy_score(y_test, y_pred_lr)))"
   ]
  },
  {
   "cell_type": "code",
   "execution_count": null,
   "metadata": {},
   "outputs": [],
   "source": []
  }
 ],
 "metadata": {
  "kernelspec": {
   "display_name": "MLP",
   "language": "python",
   "name": "python3"
  },
  "language_info": {
   "codemirror_mode": {
    "name": "ipython",
    "version": 3
   },
   "file_extension": ".py",
   "mimetype": "text/x-python",
   "name": "python",
   "nbconvert_exporter": "python",
   "pygments_lexer": "ipython3",
   "version": "3.7.1"
  }
 },
 "nbformat": 4,
 "nbformat_minor": 2
}
